{
 "metadata": {
  "name": "",
  "signature": "sha256:3f103b1e37f842257bd18e743e6c4e368dc65c1808e0245b42cf9823b42b7d8c"
 },
 "nbformat": 3,
 "nbformat_minor": 0,
 "worksheets": [
  {
   "cells": [
    {
     "cell_type": "code",
     "collapsed": false,
     "input": [
      "import pandas as pd\n",
      "import fnmatch\n",
      "import os\n",
      "import numpy as np"
     ],
     "language": "python",
     "metadata": {},
     "outputs": [],
     "prompt_number": 335
    },
    {
     "cell_type": "code",
     "collapsed": false,
     "input": [
      "android = pd.DataFrame()\n",
      "itunes = pd.DataFrame()"
     ],
     "language": "python",
     "metadata": {},
     "outputs": [],
     "prompt_number": 336
    },
    {
     "cell_type": "code",
     "collapsed": false,
     "input": [
      "for file in os.listdir('.\\data'):\n",
      "    if fnmatch.fnmatch(file, '*android*.csv'):\n",
      "        fname = \"data\\\\\" + file\n",
      "        print \"appending: \" + fname\n",
      "        file_df = pd.read_csv(fname)#, index_col='id')\n",
      "        print file_df['Latino / Hispanic'].head(25) \n",
      "        android = pd.concat([android, file_df])\n",
      "\n",
      "        \n",
      "    if fnmatch.fnmatch(file, '*itunes*.csv'):\n",
      "        fname = \"data\\\\\" + file\n",
      "        print \"appending: \" + fname\n",
      "        file_df = pd.read_csv(fname, index_col='id')\n",
      "        print file_df['Latino / Hispanic'].head(25) \n",
      "        itunes = pd.concat([itunes,file_df])\n",
      "    "
     ],
     "language": "python",
     "metadata": {},
     "outputs": [
      {
       "output_type": "stream",
       "stream": "stdout",
       "text": [
        "appending: data\\brx-android-related.csv\n",
        "0      6\n",
        "1      3\n",
        "2      1\n",
        "3     33\n",
        "4    NaN\n",
        "5      5\n",
        "6      0\n",
        "7      0\n",
        "8      1\n",
        "9      3\n",
        "10     1\n",
        "11     1\n",
        "12     0\n",
        "13     0\n",
        "14     0\n",
        "15     0\n",
        "16     2\n",
        "17     1\n",
        "18     5\n",
        "19     0\n",
        "20     0\n",
        "21     0\n",
        "22     3\n",
        "23     1\n",
        "24     1\n",
        "Name: Latino / Hispanic, dtype: float64\n",
        "appending: data\\brx-itunes-related.csv"
       ]
      },
      {
       "output_type": "stream",
       "stream": "stdout",
       "text": [
        "\n",
        "id\n",
        " 35091     16\n",
        " 140422     0\n",
        " 10626     36\n",
        " 689523    45\n",
        " 140422     0\n",
        " 140422     0\n",
        " 381858     2\n",
        " 10876     25\n",
        " 140422     0\n",
        "NaN       NaN\n",
        " 10961     45\n",
        "NaN       NaN\n",
        " 393015     3\n",
        " 140422     0\n",
        " 10830     44\n",
        " 140422     0\n",
        " 8724      66\n",
        " 32778     27\n",
        " 689523    45\n",
        " 10626     36\n",
        " 358706     1\n",
        " 140422     0\n",
        " 391508     3\n",
        "Name: Latino / Hispanic, dtype: float64\n",
        "appending: data\\nexage-flurry-android-related.csv\n",
        "0     30\n",
        "1     26\n",
        "2     52\n",
        "3     38\n",
        "4     44\n",
        "5      0\n",
        "6     50\n",
        "7     29\n",
        "8     35\n",
        "9     50\n",
        "10     2\n",
        "11    22\n",
        "12     0\n",
        "13     2\n",
        "14    29\n",
        "15    51\n",
        "16    83\n",
        "17    26\n",
        "18    10\n",
        "19     2\n",
        "20     5\n",
        "21     0\n",
        "22    44\n",
        "23    29\n",
        "24    51\n",
        "Name: Latino / Hispanic, dtype: float64"
       ]
      },
      {
       "output_type": "stream",
       "stream": "stdout",
       "text": [
        "\n",
        "appending: data\\nexage-flurry-itunes-related.csv\n",
        "id\n",
        "413851       40\n",
        "834718        1\n",
        "8237087       0\n",
        "8728         81\n",
        "35090        54\n",
        "610384       73\n",
        "627425       11\n",
        "510437       72\n",
        "125576        3\n",
        "547013       25\n",
        "8741         26\n",
        "35318         8\n",
        "547013       25\n",
        "13483         9\n",
        "3001         21\n",
        "35318         8\n",
        "10814       162\n",
        "35318         8\n",
        "10452316      0\n",
        "627425       11\n",
        "3001         21\n",
        "10814       162\n",
        "342237       26\n",
        "342237       26\n",
        "8728         81\n",
        "Name: Latino / Hispanic, dtype: float64"
       ]
      },
      {
       "output_type": "stream",
       "stream": "stdout",
       "text": [
        "\n"
       ]
      }
     ],
     "prompt_number": 337
    },
    {
     "cell_type": "code",
     "collapsed": false,
     "input": [
      "def count_totals(df):\n",
      "    df['Ethnic-total'] = df['Caucasian (white)'] + df['Middle Eastern'] + df['Native American'] + df['East Indian'] + df['African descent (black)']  + df['Asian'] + df['Latino / Hispanic'] +df['Pacific Islander']\n",
      "    df['Related Apps: Ethnic-total'] = df['Related Apps: Caucasian (white)'] + df['Related Apps: Middle Eastern'] + \\\n",
      "        df['Related Apps: Native American'] + df['Related Apps: East Indian'] + df['Related Apps: African descent (black)']  + \\\n",
      "        df['Related Apps: Asian'] + df['Related Apps: Latino / Hispanic'] +df['Related Apps: Pacific Islander']\n",
      "    \n",
      "    df['Gender-total'] = df['M'] + df['F']\n",
      "    df['Related Apps: Gender-total'] = df['Related Apps: F'] + df['Related Apps: M']\n",
      "    \n",
      "    return df\n",
      "\n",
      "itunes = count_totals(itunes)\n",
      "android = count_totals(android)"
     ],
     "language": "python",
     "metadata": {},
     "outputs": [],
     "prompt_number": 338
    },
    {
     "cell_type": "code",
     "collapsed": false,
     "input": [
      "\n",
      "def share_count(row, one, two):\n",
      "    import math\n",
      "    #for i in two:\n",
      "    \n",
      "    if math.isnan(row[two]) or row[two]==0:\n",
      "        #print \"nan or zero:\", row[one], row[two]\n",
      "        return 0\n",
      "    else:\n",
      "        #print \"ok:\", row[one], row[two]\n",
      "        return row[one] / row[two]\n",
      "\n",
      "#df = df[df['F-share'].notnull()]"
     ],
     "language": "python",
     "metadata": {},
     "outputs": [],
     "prompt_number": 339
    },
    {
     "cell_type": "code",
     "collapsed": false,
     "input": [
      "def share_platform_gender(df):\n",
      "    df['F-share'] = df.apply(share_count, one = 'F', two = 'Gender-total', axis=1)\n",
      "    df['M-share'] = df.apply(share_count, one = 'M', two = 'Gender-total', axis=1)\n",
      "    \n",
      "    #df['Related Apps: F-share'] = df['Related Apps: F'] / (df['Related Apps: F'] + df['Related Apps: M'])\n",
      "    df['Related Apps: F-share'] = df.apply(share_count, one = 'Related Apps: F', two = 'Related Apps: Gender-total', axis=1)\n",
      "    df['Related Apps: M-share'] = df.apply(share_count, one = 'Related Apps: M', two = 'Related Apps: Gender-total', axis=1)\n",
      "    \n",
      "    return df\n",
      "\n",
      "\n",
      "itunes = share_platform_gender(itunes)\n",
      "android = share_platform_gender(android)\n"
     ],
     "language": "python",
     "metadata": {},
     "outputs": [],
     "prompt_number": 340
    },
    {
     "cell_type": "code",
     "collapsed": false,
     "input": [
      "def share_platform_age(df):\n",
      "    ethnic = [ 'Caucasian (white)', 'Middle Eastern', 'Native American', 'East Indian', 'African descent (black)', 'Asian', 'Pacific Islander', 'Latino / Hispanic' ] \n",
      "    \n",
      "    for e in ethnic:\n",
      "        res = e + '-share'\n",
      "        df[res] = df.apply(share_count, one = e, two = 'Ethnic-total', axis=1)\n",
      "\n",
      "    for e in ethnic:\n",
      "        e = \"Related Apps: \" + e\n",
      "        res = e + '-share'\n",
      "        df[res] = df.apply(share_count, one = e, two = 'Related Apps: Ethnic-total', axis=1)\n",
      "    \n",
      "    return df\n",
      "\n",
      "itunes = share_platform_age(itunes)\n",
      "android = share_platform_age(android)"
     ],
     "language": "python",
     "metadata": {},
     "outputs": [],
     "prompt_number": 341
    },
    {
     "cell_type": "code",
     "collapsed": false,
     "input": [
      "itunes.columns.values"
     ],
     "language": "python",
     "metadata": {},
     "outputs": [
      {
       "metadata": {},
       "output_type": "pyout",
       "prompt_number": 342,
       "text": [
        "array(['1 day avails', '1 day count', 'AID', 'African descent (black)',\n",
        "       'App Name', 'Asian', 'Caucasian (white)', 'East Indian', 'Exchange',\n",
        "       'F', 'Latino / Hispanic', 'M', 'Middle Eastern', 'Native American',\n",
        "       'Pacific Islander', 'Placement', 'Publisher', 'Publisher.1',\n",
        "       'Related Apps', 'Related Apps Categories', 'Related Apps Icons',\n",
        "       'Related Apps Names', 'Related Apps SUB Categories',\n",
        "       'Related Apps: African descent (black)', 'Related Apps: Asian',\n",
        "       'Related Apps: Caucasian (white)', 'Related Apps: East Indian',\n",
        "       'Related Apps: F', 'Related Apps: Latino / Hispanic',\n",
        "       'Related Apps: M', 'Related Apps: Middle Eastern',\n",
        "       'Related Apps: Native American', 'Related Apps: Pacific Islander',\n",
        "       'URL', 'all versions rating', 'brand score', 'category',\n",
        "       'content rating', 'current version rating', 'developer', 'icon',\n",
        "       'language', 'likely to be', 'noteworthy_rank', 'price',\n",
        "       'release date', 'reviews count', 'sub_categories', 'title',\n",
        "       'top keywords description', 'top keywords description sip',\n",
        "       'top keywords review', 'top keywords review sip',\n",
        "       'top keywords title', 'top_free_rank', 'top_grossing_rank',\n",
        "       'top_paid_rank', 'whatshot_rank', 'Ethnic-total',\n",
        "       'Related Apps: Ethnic-total', 'Gender-total',\n",
        "       'Related Apps: Gender-total', 'F-share', 'M-share',\n",
        "       'Related Apps: F-share', 'Related Apps: M-share',\n",
        "       'Caucasian (white)-share', 'Middle Eastern-share',\n",
        "       'Native American-share', 'East Indian-share',\n",
        "       'African descent (black)-share', 'Asian-share',\n",
        "       'Pacific Islander-share', 'Latino / Hispanic-share',\n",
        "       'Related Apps: Caucasian (white)-share',\n",
        "       'Related Apps: Middle Eastern-share',\n",
        "       'Related Apps: Native American-share',\n",
        "       'Related Apps: East Indian-share',\n",
        "       'Related Apps: African descent (black)-share',\n",
        "       'Related Apps: Asian-share', 'Related Apps: Pacific Islander-share',\n",
        "       'Related Apps: Latino / Hispanic-share'], dtype=object)"
       ]
      }
     ],
     "prompt_number": 342
    },
    {
     "cell_type": "code",
     "collapsed": false,
     "input": [
      "android.to_csv('tmp\\\\a-sample.csv')\n",
      "itunes.to_csv('tmp\\\\i-sample.csv')"
     ],
     "language": "python",
     "metadata": {},
     "outputs": [],
     "prompt_number": 343
    },
    {
     "cell_type": "code",
     "collapsed": false,
     "input": [
      "def index_count(row, one, two):\n",
      "    #print row[one], two\n",
      "    return row[one] / two\n",
      "\n",
      "#df = df[df['F-share'].notnull()]\n",
      "\n",
      "def index_platform_gender(df):\n",
      "    df['F-index'] = df.apply(index_count, one = 'F-share', two = df[df['F-share']!=0]['F-share'].mean(), axis=1)\n",
      "    df['M-index'] = df.apply(index_count, one = 'M-share', two = df[df['M-share']!=0]['M-share'].mean(), axis=1)\n",
      "    \n",
      "    #df['Related Apps: F-share'] = df['Related Apps: F'] / (df['Related Apps: F'] + df['Related Apps: M'])\n",
      "    df['Related Apps: F-index'] = df.apply(index_count, one = 'Related Apps: F-share', two = df[df['Related Apps: F-share']!=0]['Related Apps: F-share'].mean(), axis=1)\n",
      "    df['Related Apps: M-index'] = df.apply(index_count, one = 'Related Apps: M-share', two = df[df['Related Apps: M-share']!=0]['Related Apps: M-share'].mean(), axis=1)\n",
      "    \n",
      "    return df\n",
      "\n",
      "itunes = index_platform_gender(itunes)\n",
      "android = index_platform_gender(android)\n"
     ],
     "language": "python",
     "metadata": {},
     "outputs": [],
     "prompt_number": 344
    },
    {
     "cell_type": "code",
     "collapsed": false,
     "input": [
      "itunes.columns.values"
     ],
     "language": "python",
     "metadata": {},
     "outputs": [
      {
       "metadata": {},
       "output_type": "pyout",
       "prompt_number": 345,
       "text": [
        "array(['1 day avails', '1 day count', 'AID', 'African descent (black)',\n",
        "       'App Name', 'Asian', 'Caucasian (white)', 'East Indian', 'Exchange',\n",
        "       'F', 'Latino / Hispanic', 'M', 'Middle Eastern', 'Native American',\n",
        "       'Pacific Islander', 'Placement', 'Publisher', 'Publisher.1',\n",
        "       'Related Apps', 'Related Apps Categories', 'Related Apps Icons',\n",
        "       'Related Apps Names', 'Related Apps SUB Categories',\n",
        "       'Related Apps: African descent (black)', 'Related Apps: Asian',\n",
        "       'Related Apps: Caucasian (white)', 'Related Apps: East Indian',\n",
        "       'Related Apps: F', 'Related Apps: Latino / Hispanic',\n",
        "       'Related Apps: M', 'Related Apps: Middle Eastern',\n",
        "       'Related Apps: Native American', 'Related Apps: Pacific Islander',\n",
        "       'URL', 'all versions rating', 'brand score', 'category',\n",
        "       'content rating', 'current version rating', 'developer', 'icon',\n",
        "       'language', 'likely to be', 'noteworthy_rank', 'price',\n",
        "       'release date', 'reviews count', 'sub_categories', 'title',\n",
        "       'top keywords description', 'top keywords description sip',\n",
        "       'top keywords review', 'top keywords review sip',\n",
        "       'top keywords title', 'top_free_rank', 'top_grossing_rank',\n",
        "       'top_paid_rank', 'whatshot_rank', 'Ethnic-total',\n",
        "       'Related Apps: Ethnic-total', 'Gender-total',\n",
        "       'Related Apps: Gender-total', 'F-share', 'M-share',\n",
        "       'Related Apps: F-share', 'Related Apps: M-share',\n",
        "       'Caucasian (white)-share', 'Middle Eastern-share',\n",
        "       'Native American-share', 'East Indian-share',\n",
        "       'African descent (black)-share', 'Asian-share',\n",
        "       'Pacific Islander-share', 'Latino / Hispanic-share',\n",
        "       'Related Apps: Caucasian (white)-share',\n",
        "       'Related Apps: Middle Eastern-share',\n",
        "       'Related Apps: Native American-share',\n",
        "       'Related Apps: East Indian-share',\n",
        "       'Related Apps: African descent (black)-share',\n",
        "       'Related Apps: Asian-share', 'Related Apps: Pacific Islander-share',\n",
        "       'Related Apps: Latino / Hispanic-share', 'F-index', 'M-index',\n",
        "       'Related Apps: F-index', 'Related Apps: M-index'], dtype=object)"
       ]
      }
     ],
     "prompt_number": 345
    },
    {
     "cell_type": "code",
     "collapsed": false,
     "input": [
      "def index_platform_age(df):\n",
      "    ethnic = [ 'Caucasian (white)', 'Middle Eastern', 'Native American', 'East Indian', 'African descent (black)', 'Asian', 'Pacific Islander', 'Latino / Hispanic' ] \n",
      "    \n",
      "    for e in ethnic:\n",
      "        res = e + '-index'\n",
      "        o = e +'-share'\n",
      "        df[res] = df.apply(index_count, one = o, two = df[df[o]!=0][o].mean(), axis=1)\n",
      "\n",
      "    for e in ethnic:\n",
      "        o = \"Related Apps: \" + e + \"-share\"\n",
      "        res = \"Related Apps: \" + e + '-index'\n",
      "        df[res] = df.apply(index_count, one = e, two = df[df[o]!=0][o].mean(), axis=1)\n",
      "  \n",
      "    return df\n",
      "\n",
      "\n",
      "itunes = index_platform_age(itunes)\n",
      "android = index_platform_age(android)\n"
     ],
     "language": "python",
     "metadata": {},
     "outputs": [],
     "prompt_number": 346
    },
    {
     "cell_type": "code",
     "collapsed": false,
     "input": [
      "android.to_csv('tmp\\\\a-sample.csv')\n",
      "itunes.to_csv('tmp\\\\i-sample.csv')\n",
      "# done index against platform"
     ],
     "language": "python",
     "metadata": {},
     "outputs": [],
     "prompt_number": 347
    },
    {
     "cell_type": "code",
     "collapsed": false,
     "input": [
      "itunes.columns.values"
     ],
     "language": "python",
     "metadata": {},
     "outputs": [
      {
       "metadata": {},
       "output_type": "pyout",
       "prompt_number": 348,
       "text": [
        "array(['1 day avails', '1 day count', 'AID', 'African descent (black)',\n",
        "       'App Name', 'Asian', 'Caucasian (white)', 'East Indian', 'Exchange',\n",
        "       'F', 'Latino / Hispanic', 'M', 'Middle Eastern', 'Native American',\n",
        "       'Pacific Islander', 'Placement', 'Publisher', 'Publisher.1',\n",
        "       'Related Apps', 'Related Apps Categories', 'Related Apps Icons',\n",
        "       'Related Apps Names', 'Related Apps SUB Categories',\n",
        "       'Related Apps: African descent (black)', 'Related Apps: Asian',\n",
        "       'Related Apps: Caucasian (white)', 'Related Apps: East Indian',\n",
        "       'Related Apps: F', 'Related Apps: Latino / Hispanic',\n",
        "       'Related Apps: M', 'Related Apps: Middle Eastern',\n",
        "       'Related Apps: Native American', 'Related Apps: Pacific Islander',\n",
        "       'URL', 'all versions rating', 'brand score', 'category',\n",
        "       'content rating', 'current version rating', 'developer', 'icon',\n",
        "       'language', 'likely to be', 'noteworthy_rank', 'price',\n",
        "       'release date', 'reviews count', 'sub_categories', 'title',\n",
        "       'top keywords description', 'top keywords description sip',\n",
        "       'top keywords review', 'top keywords review sip',\n",
        "       'top keywords title', 'top_free_rank', 'top_grossing_rank',\n",
        "       'top_paid_rank', 'whatshot_rank', 'Ethnic-total',\n",
        "       'Related Apps: Ethnic-total', 'Gender-total',\n",
        "       'Related Apps: Gender-total', 'F-share', 'M-share',\n",
        "       'Related Apps: F-share', 'Related Apps: M-share',\n",
        "       'Caucasian (white)-share', 'Middle Eastern-share',\n",
        "       'Native American-share', 'East Indian-share',\n",
        "       'African descent (black)-share', 'Asian-share',\n",
        "       'Pacific Islander-share', 'Latino / Hispanic-share',\n",
        "       'Related Apps: Caucasian (white)-share',\n",
        "       'Related Apps: Middle Eastern-share',\n",
        "       'Related Apps: Native American-share',\n",
        "       'Related Apps: East Indian-share',\n",
        "       'Related Apps: African descent (black)-share',\n",
        "       'Related Apps: Asian-share', 'Related Apps: Pacific Islander-share',\n",
        "       'Related Apps: Latino / Hispanic-share', 'F-index', 'M-index',\n",
        "       'Related Apps: F-index', 'Related Apps: M-index',\n",
        "       'Caucasian (white)-index', 'Middle Eastern-index',\n",
        "       'Native American-index', 'East Indian-index',\n",
        "       'African descent (black)-index', 'Asian-index',\n",
        "       'Pacific Islander-index', 'Latino / Hispanic-index',\n",
        "       'Related Apps: Caucasian (white)-index',\n",
        "       'Related Apps: Middle Eastern-index',\n",
        "       'Related Apps: Native American-index',\n",
        "       'Related Apps: East Indian-index',\n",
        "       'Related Apps: African descent (black)-index',\n",
        "       'Related Apps: Asian-index', 'Related Apps: Pacific Islander-index',\n",
        "       'Related Apps: Latino / Hispanic-index'], dtype=object)"
       ]
      }
     ],
     "prompt_number": 348
    },
    {
     "cell_type": "code",
     "collapsed": false,
     "input": [
      "# begin index against category\n",
      "cats = itunes.groupby('category')\n"
     ],
     "language": "python",
     "metadata": {},
     "outputs": [],
     "prompt_number": 349
    },
    {
     "cell_type": "code",
     "collapsed": false,
     "input": [
      "def cat_count(row):\n",
      "    return row[row>0].mean()\n"
     ],
     "language": "python",
     "metadata": {},
     "outputs": [],
     "prompt_number": 350
    },
    {
     "cell_type": "code",
     "collapsed": false,
     "input": [
      "categories = pd.DataFrame(index=cats.groups.keys())\n",
      "categories"
     ],
     "language": "python",
     "metadata": {},
     "outputs": [
      {
       "html": [
        "<div style=\"max-height:1000px;max-width:1500px;overflow:auto;\">\n",
        "<table border=\"1\" class=\"dataframe\">\n",
        "  <tbody>\n",
        "    <tr>\n",
        "      <td>Index([u'Medical', u'Productivity', u'Reference', u'Music', u'Entertainment', u'Books', u'Navigation', u'Travel', u'Business', u'Lifestyle', u'Utilities', u'Sports', u'Food &amp; Drink', u'Weather', u'Games', u'News', u'Education', u'Social Networking', u'Health &amp; Fitness', u'Photo &amp; Video', u'Finance'], dtype='object')</td>\n",
        "      <td>Empty DataFrame</td>\n",
        "    </tr>\n",
        "  </tbody>\n",
        "</table>\n",
        "<p>21 rows \u00d7 0 columns</p>\n",
        "</div>"
       ],
       "metadata": {},
       "output_type": "pyout",
       "prompt_number": 351,
       "text": [
        "Empty DataFrame\n",
        "Columns: []\n",
        "Index: [Medical, Productivity, Reference, Music, Entertainment, Books, Navigation, Travel, Business, Lifestyle, Utilities, Sports, Food & Drink, Weather, Games, News, Education, Social Networking, Health & Fitness, Photo & Video, Finance]\n",
        "\n",
        "[21 rows x 0 columns]"
       ]
      }
     ],
     "prompt_number": 351
    },
    {
     "cell_type": "code",
     "collapsed": false,
     "input": [
      "#m = cats['F-index'].apply(cat_count)\n",
      "\n",
      "\n",
      "categories['F-share'] = cats['F-share'].apply(cat_count)\n",
      "categories['M-share'] = cats['M-share'].apply(cat_count)\n",
      "categories['Related Apps: F-share'] = cats['Related Apps: F-share'].apply(cat_count)\n",
      "categories['Related Apps: M-share'] = cats['Related Apps: M-share'].apply(cat_count)\n",
      "\n",
      "ethnic = [ 'Caucasian (white)', 'Middle Eastern', 'Native American', 'East Indian', 'African descent (black)', 'Asian', 'Pacific Islander', 'Latino / Hispanic' ] \n",
      "    \n",
      "for e in ethnic:\n",
      "    res = e + '-index'\n",
      "    o = e +'-share'\n",
      "    categories[o] = cats[o].apply(cat_count)\n",
      "\n",
      "for e in ethnic:\n",
      "    e = \"Related Apps: \" + e + \"-share\"\n",
      "    res = e + '-index'\n",
      "    categories[e] = cats[e].apply(cat_count)\n"
     ],
     "language": "python",
     "metadata": {},
     "outputs": [],
     "prompt_number": 352
    },
    {
     "cell_type": "code",
     "collapsed": false,
     "input": [
      "categories.columns\n",
      "#categories[categories.index=='Books']['F-share'].values[0]"
     ],
     "language": "python",
     "metadata": {},
     "outputs": [
      {
       "metadata": {},
       "output_type": "pyout",
       "prompt_number": 353,
       "text": [
        "Index([u'F-share', u'M-share', u'Related Apps: F-share', u'Related Apps: M-share', u'Caucasian (white)-share', u'Middle Eastern-share', u'Native American-share', u'East Indian-share', u'African descent (black)-share', u'Asian-share', u'Pacific Islander-share', u'Latino / Hispanic-share', u'Related Apps: Caucasian (white)-share', u'Related Apps: Middle Eastern-share', u'Related Apps: Native American-share', u'Related Apps: East Indian-share', u'Related Apps: African descent (black)-share', u'Related Apps: Asian-share', u'Related Apps: Pacific Islander-share', u'Related Apps: Latino / Hispanic-share'], dtype='object')"
       ]
      }
     ],
     "prompt_number": 353
    },
    {
     "cell_type": "code",
     "collapsed": false,
     "input": [
      "def cat_find(row, index):\n",
      "    #print \"App:\", row[index]\n",
      "    #print \"Category: \\n\", categories[categories.index==row['category']][index]\n",
      "    result = row[index] / categories[categories.index==row['category']][index]\n",
      "    if result.values:\n",
      "        #print \"result\", result.values[0]\n",
      "        return result.values[0]\n",
      "    else:\n",
      "        #print \"-\"\n",
      "        return 0\n",
      "    \n",
      "    \n",
      "def index_cat(df):\n",
      "    df['F-index-cat'] = df.apply(cat_find, index='F-share', axis=1)#[itunes['category'] == 'Books']\n",
      "    df['M-index-cat'] = df.apply(cat_find, index='M-share', axis=1)#[itunes['category'] == 'Books']\n",
      "    df['Related Apps: F-index-cat'] = df.apply(cat_find, index='Related Apps: F-share', axis=1)#[itunes['category'] == 'Books']\n",
      "    df['Related Apps: M-index-cat'] = df.apply(cat_find, index='Related Apps: M-share', axis=1)#[itunes['category'] == 'Books']\n",
      "\n",
      "    ethnic = [ 'Caucasian (white)', 'Middle Eastern', 'Native American', 'East Indian', 'African descent (black)', 'Asian', 'Pacific Islander', 'Latino / Hispanic' ] \n",
      "    \n",
      "    for e in ethnic:\n",
      "        res = e + '-index-cat'\n",
      "        o = e +'-share'\n",
      "        df[res] = df.apply(cat_find, index = o, axis=1)\n",
      "\n",
      "    for e in ethnic:\n",
      "        o = \"Related Apps: \" + e + \"-share\"\n",
      "        res = \"Related Apps: \" + e + '-index-cat'\n",
      "        df[res] = df.apply(cat_find, index = o, axis=1)\n",
      "  \n",
      "    return df    \n",
      " \n",
      "itunes = index_cat(itunes)\n",
      "android = index_cat(android)"
     ],
     "language": "python",
     "metadata": {},
     "outputs": [],
     "prompt_number": 354
    },
    {
     "cell_type": "code",
     "collapsed": false,
     "input": [
      "itunes.to_csv('itunes_master.csv')\n",
      "android.to_csv('android_master.csv')\n"
     ],
     "language": "python",
     "metadata": {},
     "outputs": [],
     "prompt_number": 355
    },
    {
     "cell_type": "code",
     "collapsed": false,
     "input": [
      "itunes.to_csv('cats.csv')"
     ],
     "language": "python",
     "metadata": {},
     "outputs": [],
     "prompt_number": 356
    },
    {
     "cell_type": "code",
     "collapsed": false,
     "input": [
      "#index against both platforms\n",
      "rows = [ 'M','F','Caucasian (white)', 'Middle Eastern', 'Native American', 'East Indian', 'African descent (black)', 'Asian', 'Pacific Islander', 'Latino / Hispanic' ] \n",
      "\n",
      "final_rows = []\n",
      "\n",
      "for r in rows:\n",
      "    final_rows.append(r + '-share')\n",
      "    final_rows.append('Related Apps: ' + r + '-share')\n",
      "  \n",
      "both_platforms_shares = pd.concat([android[final_rows],itunes[final_rows]])"
     ],
     "language": "python",
     "metadata": {},
     "outputs": [],
     "prompt_number": 357
    },
    {
     "cell_type": "code",
     "collapsed": false,
     "input": [
      "both_platforms_shares.to_csv('tmp/both_platforms.csv')"
     ],
     "language": "python",
     "metadata": {},
     "outputs": [],
     "prompt_number": 358
    },
    {
     "cell_type": "code",
     "collapsed": false,
     "input": [
      "def index_both_platform(df, both_shares):\n",
      "    rows = [ 'M','F','Caucasian (white)', 'Middle Eastern', 'Native American', 'East Indian', 'African descent (black)', 'Asian', 'Pacific Islander', 'Latino / Hispanic' ] \n",
      "\n",
      "    for e in rows:\n",
      "        res = e + '-index-both'\n",
      "        o = e +'-share'\n",
      "        df[res] = df.apply(index_count, one = o, two = both_shares[both_shares[o]!=0][o].mean(), axis=1)\n",
      "\n",
      "    for e in rows:\n",
      "        o = \"Related Apps: \" + e + \"-share\"\n",
      "        res = \"Related Apps: \" + e + '-index-both'\n",
      "        df[res] = df.apply(index_count, one = o, two = both_shares[both_shares[o]!=0][o].mean(), axis=1)\n",
      "  \n",
      "    return df\n",
      "\n",
      "\n",
      "itunes = index_both_platform(itunes,both_platforms_shares)\n",
      "android = index_both_platform(android,both_platforms_shares)\n"
     ],
     "language": "python",
     "metadata": {},
     "outputs": [],
     "prompt_number": 359
    },
    {
     "cell_type": "code",
     "collapsed": false,
     "input": [
      "print android.columns.values"
     ],
     "language": "python",
     "metadata": {},
     "outputs": [
      {
       "output_type": "stream",
       "stream": "stdout",
       "text": [
        "['1 day avails' '1 day count' 'AID' 'African descent (black)' 'App Name'\n",
        " 'Asian' 'Caucasian (white)' 'East Indian' 'Exchange' 'F'\n",
        " 'Latino / Hispanic' 'M' 'Middle Eastern' 'Native American'\n",
        " 'Pacific Islander' 'Placement' 'Publisher' 'Publisher.1' 'Related Apps'\n",
        " 'Related Apps Categories' 'Related Apps Icons' 'Related Apps Name'\n",
        " 'Related Apps SUB Categories' 'Related Apps: African descent (black)'\n",
        " 'Related Apps: Asian' 'Related Apps: Caucasian (white)'\n",
        " 'Related Apps: East Indian' 'Related Apps: F'\n",
        " 'Related Apps: Latino / Hispanic' 'Related Apps: M'\n",
        " 'Related Apps: Middle Eastern' 'Related Apps: Native American'\n",
        " 'Related Apps: Pacific Islander' 'URL' 'brand score' 'category'\n",
        " 'content rating' 'developer' 'featured_rank' 'icon' 'id' 'installs'\n",
        " 'language' 'likely to be' 'price' 'release date' 'review rating'\n",
        " 'reviews count' 'sub categories' 'title' 'top keywords description'\n",
        " 'top keywords description sip' 'top keywords review'\n",
        " 'top keywords review sip' 'top keywords title' 'top_free_rank'\n",
        " 'top_grossing_rank' 'top_paid_rank' 'Ethnic-total'\n",
        " 'Related Apps: Ethnic-total' 'Gender-total' 'Related Apps: Gender-total'\n",
        " 'F-share' 'M-share' 'Related Apps: F-share' 'Related Apps: M-share'\n",
        " 'Caucasian (white)-share' 'Middle Eastern-share' 'Native American-share'\n",
        " 'East Indian-share' 'African descent (black)-share' 'Asian-share'\n",
        " 'Pacific Islander-share' 'Latino / Hispanic-share'\n",
        " 'Related Apps: Caucasian (white)-share'\n",
        " 'Related Apps: Middle Eastern-share' 'Related Apps: Native American-share'\n",
        " 'Related Apps: East Indian-share'\n",
        " 'Related Apps: African descent (black)-share' 'Related Apps: Asian-share'\n",
        " 'Related Apps: Pacific Islander-share'\n",
        " 'Related Apps: Latino / Hispanic-share' 'F-index' 'M-index'\n",
        " 'Related Apps: F-index' 'Related Apps: M-index' 'Caucasian (white)-index'\n",
        " 'Middle Eastern-index' 'Native American-index' 'East Indian-index'\n",
        " 'African descent (black)-index' 'Asian-index' 'Pacific Islander-index'\n",
        " 'Latino / Hispanic-index' 'Related Apps: Caucasian (white)-index'\n",
        " 'Related Apps: Middle Eastern-index' 'Related Apps: Native American-index'\n",
        " 'Related Apps: East Indian-index'\n",
        " 'Related Apps: African descent (black)-index' 'Related Apps: Asian-index'\n",
        " 'Related Apps: Pacific Islander-index'\n",
        " 'Related Apps: Latino / Hispanic-index' 'F-index-cat' 'M-index-cat'\n",
        " 'Related Apps: F-index-cat' 'Related Apps: M-index-cat'\n",
        " 'Caucasian (white)-index-cat' 'Middle Eastern-index-cat'\n",
        " 'Native American-index-cat' 'East Indian-index-cat'\n",
        " 'African descent (black)-index-cat' 'Asian-index-cat'\n",
        " 'Pacific Islander-index-cat' 'Latino / Hispanic-index-cat'\n",
        " 'Related Apps: Caucasian (white)-index-cat'\n",
        " 'Related Apps: Middle Eastern-index-cat'\n",
        " 'Related Apps: Native American-index-cat'\n",
        " 'Related Apps: East Indian-index-cat'\n",
        " 'Related Apps: African descent (black)-index-cat'\n",
        " 'Related Apps: Asian-index-cat' 'Related Apps: Pacific Islander-index-cat'\n",
        " 'Related Apps: Latino / Hispanic-index-cat' 'M-index-both' 'F-index-both'\n",
        " 'Caucasian (white)-index-both' 'Middle Eastern-index-both'\n",
        " 'Native American-index-both' 'East Indian-index-both'\n",
        " 'African descent (black)-index-both' 'Asian-index-both'\n",
        " 'Pacific Islander-index-both' 'Latino / Hispanic-index-both'\n",
        " 'Related Apps: M-index-both' 'Related Apps: F-index-both'\n",
        " 'Related Apps: Caucasian (white)-index-both'\n",
        " 'Related Apps: Middle Eastern-index-both'\n",
        " 'Related Apps: Native American-index-both'\n",
        " 'Related Apps: East Indian-index-both'\n",
        " 'Related Apps: African descent (black)-index-both'\n",
        " 'Related Apps: Asian-index-both'\n",
        " 'Related Apps: Pacific Islander-index-both'\n",
        " 'Related Apps: Latino / Hispanic-index-both']\n"
       ]
      }
     ],
     "prompt_number": 360
    },
    {
     "cell_type": "code",
     "collapsed": false,
     "input": [
      "itunes.to_csv('itunes_master.csv')\n",
      "android.to_csv('android_master.csv')\n",
      "\n"
     ],
     "language": "python",
     "metadata": {},
     "outputs": [],
     "prompt_number": 361
    },
    {
     "cell_type": "code",
     "collapsed": false,
     "input": [
      "cols = \"Publisher\tPlacement\tAID\tPublisher\tURL\t1 day avails\ttitle\tlanguage\ticon\tcategory\tdeveloper\tprice\treviews count\tcontent rating\tbrand score\trelease date\tlikely to be\ttop_free_rank\ttop_paid_rank\ttop_grossing_rank\ttop keywords title\ttop keywords description\ttop keywords description sip\ttop keywords review\ttop keywords review sip\tM\tF\tCaucasian (white)\tMiddle Eastern\tNative American\tEast Indian\tAfrican descent (black)\tAsian\tPacific Islander\tLatino / Hispanic\tRelated Apps\tRelated Apps Icons\tRelated Apps Categories\tRelated Apps SUB Categories\tRelated Apps: M\tRelated Apps: F\tRelated Apps: Caucasian (white)\tRelated Apps: Middle Eastern\tRelated Apps: Native American\tRelated Apps: East Indian\tRelated Apps: African descent (black)\tRelated Apps: Asian\tRelated Apps: Pacific Islander\tRelated Apps: Latino / Hispanic\"\n",
      "cols = cols.split('\\t')\n",
      "#cols = []\n",
      "#those columns are in itunes, but not in android:\n",
      "'''['installs',\n",
      " 'sub categories',\n",
      " 'Related Apps Name',\n",
      " 'review rating',\n",
      " 'id',\n",
      " 'featured_rank']'''\n",
      "\n",
      "cols_additional = ['installs',\n",
      " 'sub categories',\n",
      " 'Related Apps Name',\n",
      " 'review rating',\n",
      " 'id',\n",
      " 'featured_rank']\n",
      "\n",
      "rows = [ 'M','F','Caucasian (white)', 'Middle Eastern', 'Native American', 'East Indian', 'African descent (black)', 'Asian', 'Pacific Islander', 'Latino / Hispanic' ] \n",
      "\n",
      "for e in rows:\n",
      "    ind = e + '-index'\n",
      "    cat = e + '-index-cat'\n",
      "    both = e + '-index-both'\n",
      "    inds = e +'-share'\n",
      "    \n",
      "    cols.extend([inds,ind,cat,both])\n",
      "    #print inds,ind,cat,both\n",
      "\n",
      "for e in rows:\n",
      "    e = \"Related Apps: \" + e\n",
      "    ind = e + '-index'\n",
      "    cat = e + '-index-cat'\n",
      "    both = e + '-index-both'\n",
      "    inds = e +'-share'\n",
      "    cols.extend([inds,ind,cat,both])\n",
      "    \n",
      "    #print inds,ind,cat,both\n",
      "print cols\n"
     ],
     "language": "python",
     "metadata": {},
     "outputs": [
      {
       "output_type": "stream",
       "stream": "stdout",
       "text": [
        "['Publisher', 'Placement', 'AID', 'Publisher', 'URL', '1 day avails', 'title', 'language', 'icon', 'category', 'developer', 'price', 'reviews count', 'content rating', 'brand score', 'release date', 'likely to be', 'top_free_rank', 'top_paid_rank', 'top_grossing_rank', 'top keywords title', 'top keywords description', 'top keywords description sip', 'top keywords review', 'top keywords review sip', 'M', 'F', 'Caucasian (white)', 'Middle Eastern', 'Native American', 'East Indian', 'African descent (black)', 'Asian', 'Pacific Islander', 'Latino / Hispanic', 'Related Apps', 'Related Apps Icons', 'Related Apps Categories', 'Related Apps SUB Categories', 'Related Apps: M', 'Related Apps: F', 'Related Apps: Caucasian (white)', 'Related Apps: Middle Eastern', 'Related Apps: Native American', 'Related Apps: East Indian', 'Related Apps: African descent (black)', 'Related Apps: Asian', 'Related Apps: Pacific Islander', 'Related Apps: Latino / Hispanic', 'M-share', 'M-index', 'M-index-cat', 'M-index-both', 'F-share', 'F-index', 'F-index-cat', 'F-index-both', 'Caucasian (white)-share', 'Caucasian (white)-index', 'Caucasian (white)-index-cat', 'Caucasian (white)-index-both', 'Middle Eastern-share', 'Middle Eastern-index', 'Middle Eastern-index-cat', 'Middle Eastern-index-both', 'Native American-share', 'Native American-index', 'Native American-index-cat', 'Native American-index-both', 'East Indian-share', 'East Indian-index', 'East Indian-index-cat', 'East Indian-index-both', 'African descent (black)-share', 'African descent (black)-index', 'African descent (black)-index-cat', 'African descent (black)-index-both', 'Asian-share', 'Asian-index', 'Asian-index-cat', 'Asian-index-both', 'Pacific Islander-share', 'Pacific Islander-index', 'Pacific Islander-index-cat', 'Pacific Islander-index-both', 'Latino / Hispanic-share', 'Latino / Hispanic-index', 'Latino / Hispanic-index-cat', 'Latino / Hispanic-index-both', 'Related Apps: M-share', 'Related Apps: M-index', 'Related Apps: M-index-cat', 'Related Apps: M-index-both', 'Related Apps: F-share', 'Related Apps: F-index', 'Related Apps: F-index-cat', 'Related Apps: F-index-both', 'Related Apps: Caucasian (white)-share', 'Related Apps: Caucasian (white)-index', 'Related Apps: Caucasian (white)-index-cat', 'Related Apps: Caucasian (white)-index-both', 'Related Apps: Middle Eastern-share', 'Related Apps: Middle Eastern-index', 'Related Apps: Middle Eastern-index-cat', 'Related Apps: Middle Eastern-index-both', 'Related Apps: Native American-share', 'Related Apps: Native American-index', 'Related Apps: Native American-index-cat', 'Related Apps: Native American-index-both', 'Related Apps: East Indian-share', 'Related Apps: East Indian-index', 'Related Apps: East Indian-index-cat', 'Related Apps: East Indian-index-both', 'Related Apps: African descent (black)-share', 'Related Apps: African descent (black)-index', 'Related Apps: African descent (black)-index-cat', 'Related Apps: African descent (black)-index-both', 'Related Apps: Asian-share', 'Related Apps: Asian-index', 'Related Apps: Asian-index-cat', 'Related Apps: Asian-index-both', 'Related Apps: Pacific Islander-share', 'Related Apps: Pacific Islander-index', 'Related Apps: Pacific Islander-index-cat', 'Related Apps: Pacific Islander-index-both', 'Related Apps: Latino / Hispanic-share', 'Related Apps: Latino / Hispanic-index', 'Related Apps: Latino / Hispanic-index-cat', 'Related Apps: Latino / Hispanic-index-both']\n"
       ]
      }
     ],
     "prompt_number": 362
    },
    {
     "cell_type": "code",
     "collapsed": false,
     "input": [
      "cols_final = list(  set(cols) - set(itunes.columns.values) )\n"
     ],
     "language": "python",
     "metadata": {},
     "outputs": [],
     "prompt_number": 363
    },
    {
     "cell_type": "code",
     "collapsed": true,
     "input": [
      "cols_final"
     ],
     "language": "python",
     "metadata": {},
     "outputs": [
      {
       "metadata": {},
       "output_type": "pyout",
       "prompt_number": 364,
       "text": [
        "[]"
       ]
      }
     ],
     "prompt_number": 364
    },
    {
     "cell_type": "code",
     "collapsed": false,
     "input": [
      "cols_android = []\n",
      "cols_android.extend(cols)\n",
      "cols_android.extend(cols_additional)\n",
      "\n",
      "if set(cols_additional) <= set(android.columns.values):\n",
      "    pass\n",
      "else:\n",
      "    for column in cols_additional:\n",
      "        android[column] = np.nan\n",
      "     \n",
      "cols_itunes = []\n",
      "cols_itunes.extend(cols)\n",
      "cols_itunes.extend(cols_additional)\n",
      "\n",
      "if set(cols_additional) <= set(itunes.columns.values):\n",
      "    pass\n",
      "else:\n",
      "    for column in cols_additional:\n",
      "        itunes[column] = np.nan"
     ],
     "language": "python",
     "metadata": {},
     "outputs": [],
     "prompt_number": 365
    },
    {
     "cell_type": "code",
     "collapsed": false,
     "input": [
      "itunes[cols_additional].head()"
     ],
     "language": "python",
     "metadata": {},
     "outputs": [
      {
       "html": [
        "<div style=\"max-height:1000px;max-width:1500px;overflow:auto;\">\n",
        "<table border=\"1\" class=\"dataframe\">\n",
        "  <thead>\n",
        "    <tr style=\"text-align: right;\">\n",
        "      <th></th>\n",
        "      <th>installs</th>\n",
        "      <th>sub categories</th>\n",
        "      <th>Related Apps Name</th>\n",
        "      <th>review rating</th>\n",
        "      <th>id</th>\n",
        "      <th>featured_rank</th>\n",
        "    </tr>\n",
        "  </thead>\n",
        "  <tbody>\n",
        "    <tr>\n",
        "      <th>35091 </th>\n",
        "      <td>NaN</td>\n",
        "      <td>NaN</td>\n",
        "      <td>NaN</td>\n",
        "      <td>NaN</td>\n",
        "      <td>NaN</td>\n",
        "      <td>NaN</td>\n",
        "    </tr>\n",
        "    <tr>\n",
        "      <th>140422</th>\n",
        "      <td>NaN</td>\n",
        "      <td>NaN</td>\n",
        "      <td>NaN</td>\n",
        "      <td>NaN</td>\n",
        "      <td>NaN</td>\n",
        "      <td>NaN</td>\n",
        "    </tr>\n",
        "    <tr>\n",
        "      <th>10626 </th>\n",
        "      <td>NaN</td>\n",
        "      <td>NaN</td>\n",
        "      <td>NaN</td>\n",
        "      <td>NaN</td>\n",
        "      <td>NaN</td>\n",
        "      <td>NaN</td>\n",
        "    </tr>\n",
        "    <tr>\n",
        "      <th>689523</th>\n",
        "      <td>NaN</td>\n",
        "      <td>NaN</td>\n",
        "      <td>NaN</td>\n",
        "      <td>NaN</td>\n",
        "      <td>NaN</td>\n",
        "      <td>NaN</td>\n",
        "    </tr>\n",
        "    <tr>\n",
        "      <th>140422</th>\n",
        "      <td>NaN</td>\n",
        "      <td>NaN</td>\n",
        "      <td>NaN</td>\n",
        "      <td>NaN</td>\n",
        "      <td>NaN</td>\n",
        "      <td>NaN</td>\n",
        "    </tr>\n",
        "  </tbody>\n",
        "</table>\n",
        "<p>5 rows \u00d7 6 columns</p>\n",
        "</div>"
       ],
       "metadata": {},
       "output_type": "pyout",
       "prompt_number": 366,
       "text": [
        "        installs  sub categories  Related Apps Name  review rating  id  \\\n",
        "35091        NaN             NaN                NaN            NaN NaN   \n",
        "140422       NaN             NaN                NaN            NaN NaN   \n",
        "10626        NaN             NaN                NaN            NaN NaN   \n",
        "689523       NaN             NaN                NaN            NaN NaN   \n",
        "140422       NaN             NaN                NaN            NaN NaN   \n",
        "\n",
        "        featured_rank  \n",
        "35091             NaN  \n",
        "140422            NaN  \n",
        "10626             NaN  \n",
        "689523            NaN  \n",
        "140422            NaN  \n",
        "\n",
        "[5 rows x 6 columns]"
       ]
      }
     ],
     "prompt_number": 366
    },
    {
     "cell_type": "code",
     "collapsed": false,
     "input": [
      "itunes.to_csv('itunes_master_cols.csv', cols = cols_android)\n",
      "android.to_csv('android_master_cols.csv', cols = cols_itunes)\n",
      "\n"
     ],
     "language": "python",
     "metadata": {},
     "outputs": [],
     "prompt_number": 367
    },
    {
     "cell_type": "code",
     "collapsed": false,
     "input": [
      "pd.version.version"
     ],
     "language": "python",
     "metadata": {},
     "outputs": [
      {
       "metadata": {},
       "output_type": "pyout",
       "prompt_number": 368,
       "text": [
        "'0.13.1'"
       ]
      }
     ],
     "prompt_number": 368
    }
   ],
   "metadata": {}
  }
 ]
}